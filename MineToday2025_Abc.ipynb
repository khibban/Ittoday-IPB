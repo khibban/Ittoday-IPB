{
 "cells": [
  {
   "cell_type": "code",
   "execution_count": 7,
   "id": "018d4abd",
   "metadata": {},
   "outputs": [],
   "source": [
    "import pandas as pd\n",
    "\n",
    "train_absensi = pd.read_csv('./MineToday Dataset/train/train_absensi.csv')\n",
    "train_mini_project = pd.read_csv('./MineToday Dataset/train/train_mini_project.csv')\n",
    "train_pendaftaran = pd.read_csv('./MineToday Dataset/train/train_pendaftaran.csv')\n",
    "train_pretest_ml = pd.read_csv('./MineToday Dataset/train/train_pretest_ml.csv')\n",
    "train_pretest_py = pd.read_csv('./MineToday Dataset/train/train_pretest_py.csv')\n",
    "train_pretest_st = pd.read_csv('./MineToday Dataset/train/train_pretest_st.csv')\n",
    "train_weekly_quiz = pd.read_csv('./MineToday Dataset/train/train_weekly_quiz.csv')\n",
    "\n",
    "test_absensi = pd.read_csv('./MineToday Dataset/test/test_absensi.csv')\n",
    "test_mini_project = pd.read_csv('./MineToday Dataset/test/test_mini_project.csv')\n",
    "test_pendaftaran = pd.read_csv('./MineToday Dataset/test/test_pendaftaran.csv')\n",
    "test_pretest_ml = pd.read_csv('./MineToday Dataset/test/test_pretest_ml.csv')\n",
    "test_pretest_py = pd.read_csv('./MineToday Dataset/test/test_pretest_py.csv')\n",
    "test_pretest_st = pd.read_csv('./MineToday Dataset/test/test_pretest_st.csv')\n",
    "test_weekly_quiz = pd.read_csv('./MineToday Dataset/test/test_weekly_quiz.csv')\n",
    "\n",
    "prediction_id = pd.read_csv('./MineToday Dataset/prediction_id.csv')\n",
    "submission_example = pd.read_csv('./MineToday Dataset/submission_example.csv')  \n"
   ]
  },
  {
   "cell_type": "code",
   "execution_count": 8,
   "id": "94f407f5",
   "metadata": {},
   "outputs": [],
   "source": [
    "test_absensi_count = test_absensi.groupby('id').size().reset_index(name='absensi_count')\n",
    "test_weekly_quiz_count = test_weekly_quiz.groupby('id').size().reset_index(name='weekly_quiz_count')"
   ]
  },
  {
   "cell_type": "code",
   "execution_count": 9,
   "id": "715858bc",
   "metadata": {},
   "outputs": [],
   "source": [
    "score_map = ['id', 'Score']\n",
    "def select_and_rename(df, new_score_name):\n",
    "    score_map = ['id', 'Score']\n",
    "    df['Score'] = df['Score'].str.split('/').str[0].str.strip().astype(int)\n",
    "    return df[score_map].rename(columns={'Score': new_score_name})\n",
    "\n",
    "train_pretest_ml_baru = select_and_rename(train_pretest_ml, 'score_ml')\n",
    "train_pretest_py_baru = select_and_rename(train_pretest_py, 'score_py')\n",
    "train_pretest_st_baru = select_and_rename(train_pretest_st, 'score_st')  \n",
    "\n",
    "merged_train = train_pendaftaran.merge(train_pretest_ml_baru, on='id', how='outer') \\\n",
    "    .merge(train_mini_project, on='id', how='outer') \\\n",
    "    .merge(train_weekly_quiz, on='id', how='outer') \\\n",
    "    .merge(train_pretest_py_baru, on='id', how='outer') \\\n",
    "    .merge(train_pretest_st_baru, on='id', how='outer') \n",
    "merged_train = merged_train[['id', 'score_ml', 'score_py', 'score_st']]\n",
    "\n",
    "test_pretest_ml_baru = select_and_rename(test_pretest_ml, 'score_ml')\n",
    "test_pretest_py_baru = select_and_rename(test_pretest_py, 'score_py')\n",
    "test_pretest_st_baru = select_and_rename(test_pretest_st, 'score_st')  \n",
    "\n",
    "merged_test = test_pendaftaran.merge(test_pretest_ml_baru, on='id', how='outer') \\\n",
    "    .merge(test_absensi_count, on='id', how='outer') \\\n",
    "    .merge(test_mini_project, on='id', how='outer') \\\n",
    "    .merge(test_weekly_quiz_count, on='id', how='outer') \\\n",
    "    .merge(test_pretest_py_baru, on='id', how='outer') \\\n",
    "    .merge(test_pretest_st_baru, on='id', how='outer') \n",
    "merged_test = merged_test[['id', 'score_ml', 'score_py', 'score_st']]\n",
    "merged_train = merged_train.fillna(0)\n",
    "merged_test = merged_test.fillna(0)"
   ]
  },
  {
   "cell_type": "code",
   "execution_count": null,
   "id": "c526cbfd",
   "metadata": {},
   "outputs": [
    {
     "name": "stdout",
     "output_type": "stream",
     "text": [
      "                                     id  score_ml  score_py  score_st  \\\n",
      "0  063c738e-30ae-49ad-877d-d97287e94231       0.0       0.0       0.0   \n",
      "1  0a986dd7-a658-40a9-9d1b-d3074e036e35     100.0      90.0     100.0   \n",
      "2  0aa927af-2e14-47b5-bb75-c1c700b13262      50.0      80.0      90.0   \n",
      "3  0abe9114-4d57-4368-9b74-8ff8d5ab22cf      50.0      90.0      90.0   \n",
      "4  0b187bd8-2c9e-4c1a-ad95-1ac60fa3f39d      40.0      80.0      90.0   \n",
      "\n",
      "         label  \n",
      "0  Tidak Lulus  \n",
      "1        Lulus  \n",
      "2        Lulus  \n",
      "3        Lulus  \n",
      "4        Lulus  \n"
     ]
    }
   ],
   "source": [
    "import pandas as pd\n",
    "from sklearn.cluster import KMeans\n",
    "from sklearn.impute import SimpleImputer\n",
    "\n",
    "X = merged_train[['score_ml', 'score_py', 'score_st']].copy()\n",
    "\n",
    "imputer = SimpleImputer(strategy='constant', fill_value=0)\n",
    "X_imputed = imputer.fit_transform(X)\n",
    "\n",
    "kmeans = KMeans(n_clusters=2, random_state=42)\n",
    "clusters = kmeans.fit_predict(X_imputed)\n",
    "\n",
    "merged_train['cluster'] = clusters\n",
    "\n",
    "cluster_mean_scores = merged_train.groupby('cluster')[['score_ml', 'score_py', 'score_st']].mean().mean(axis=1)\n",
    "lulus_cluster = cluster_mean_scores.idxmax()\n",
    "\n",
    "merged_train['label'] = merged_train['cluster'].apply(lambda x: 'Lulus' if x == lulus_cluster else 'Tidak Lulus')\n",
    "merged_train = merged_train.drop(columns=['cluster'])\n",
    "print(merged_train[['id', 'score_ml', 'score_py', 'score_st', 'label']].head())\n"
   ]
  },
  {
   "cell_type": "code",
   "execution_count": null,
   "id": "2748c6ab",
   "metadata": {},
   "outputs": [
    {
     "name": "stdout",
     "output_type": "stream",
     "text": [
      "Balanced Accuracy (mean CV): 0.9847\n",
      "Balanced Accuracy (std CV): 0.0260\n"
     ]
    }
   ],
   "source": [
    "from sklearn.ensemble import RandomForestClassifier\n",
    "from sklearn.model_selection import cross_val_score, StratifiedKFold\n",
    "from sklearn.preprocessing import LabelEncoder\n",
    "\n",
    "X_train = merged_train[['score_ml', 'score_py', 'score_st']]\n",
    "y_train = merged_train['label'].map({'Tidak Lulus': 0, 'Lulus': 1})\n",
    "\n",
    "# Model (Random Forest)\n",
    "model = RandomForestClassifier(random_state=42)\n",
    "\n",
    "cv = StratifiedKFold(n_splits=5, shuffle=True, random_state=42)\n",
    "scores = cross_val_score(model, X_train, y_train, cv=cv, scoring='balanced_accuracy')\n",
    "\n",
    "print(f\"Balanced Accuracy (mean CV): {scores.mean():.4f}\")\n",
    "print(f\"Balanced Accuracy (std CV): {scores.std():.4f}\")\n",
    "\n",
    "model.fit(X_train, y_train)\n",
    "\n",
    "test = merged_test[merged_test['id'].isin(prediction_id['ID'])].copy()\n",
    "test = test.drop_duplicates(subset='id')\n",
    "test = test.set_index('id').loc[prediction_id['ID']].reset_index()\n",
    "\n",
    "X_test = test[['score_ml', 'score_py', 'score_st']].fillna(0)\n",
    "pred_class = model.predict(X_test)\n",
    "pred_labels = ['Lulus' if p == 1 else 'Tidak Lulus' for p in pred_class]\n",
    "\n",
    "submission = prediction_id.copy()\n",
    "submission['label'] = pred_labels\n",
    "\n",
    "submission.to_csv(\"submission.csv\", index=False)"
   ]
  },
  {
   "cell_type": "code",
   "execution_count": 12,
   "id": "96cd5065",
   "metadata": {},
   "outputs": [
    {
     "name": "stdout",
     "output_type": "stream",
     "text": [
      "Model saved as model.pkl\n"
     ]
    }
   ],
   "source": [
    "import pickle\n",
    "\n",
    "with open(\"model.pkl\", \"wb\") as f:\n",
    "    pickle.dump(model, f)\n",
    "\n",
    "print(\"Model saved as model.pkl\")"
   ]
  }
 ],
 "metadata": {
  "kernelspec": {
   "display_name": "venv",
   "language": "python",
   "name": "python3"
  },
  "language_info": {
   "codemirror_mode": {
    "name": "ipython",
    "version": 3
   },
   "file_extension": ".py",
   "mimetype": "text/x-python",
   "name": "python",
   "nbconvert_exporter": "python",
   "pygments_lexer": "ipython3",
   "version": "3.12.10"
  }
 },
 "nbformat": 4,
 "nbformat_minor": 5
}
